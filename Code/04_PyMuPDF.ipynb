{
 "cells": [
  {
   "cell_type": "code",
   "execution_count": 1,
   "id": "46533ed6",
   "metadata": {},
   "outputs": [],
   "source": [
    "import fitz  # PyMuPDF 라이브러리\n",
    "import os"
   ]
  },
  {
   "cell_type": "code",
   "execution_count": 2,
   "id": "92b5e463",
   "metadata": {},
   "outputs": [],
   "source": [
    "def extract_images_from_pdf(pdf_path, output_dir=\"extracted_images\"):\n",
    "    \"\"\"PyMuPDF를 사용하여 PDF에서 모든 이미지를 추출합니다.\"\"\"\n",
    "    # 결과 이미지를 저장할 폴더 생성\n",
    "    if not os.path.exists(output_dir):\n",
    "        os.makedirs(output_dir)\n",
    "\n",
    "    # PDF 파일 열기\n",
    "    doc = fitz.open(pdf_path)\n",
    "    image_count = 0\n",
    "\n",
    "    # 모든 페이지를 순회\n",
    "    for page_num, page in enumerate(doc):\n",
    "        # 페이지에서 이미지 리스트 가져오기\n",
    "        image_list = page.get_images(full=True)\n",
    "\n",
    "        # 각 이미지에 대해 작업\n",
    "        for img_index, img in enumerate(image_list):\n",
    "            xref = img[0]\n",
    "            base_image = doc.extract_image(xref)\n",
    "            image_bytes = base_image[\"image\"]\n",
    "            image_ext = base_image[\"ext\"]\n",
    "\n",
    "            # 이미지 파일로 저장\n",
    "            image_filename = f\"image_{page_num+1}_{img_index+1}.{image_ext}\"\n",
    "            image_path = os.path.join(output_dir, image_filename)\n",
    "            \n",
    "            with open(image_path, \"wb\") as image_file:\n",
    "                image_file.write(image_bytes)\n",
    "            \n",
    "            image_count += 1\n",
    "            print(f\"저장 완료: {image_path}\")\n",
    "\n",
    "    print(f\"\\n총 {image_count}개의 이미지를 추출했습니다.\")\n",
    "    doc.close()"
   ]
  },
  {
   "cell_type": "code",
   "execution_count": 3,
   "id": "aad745d9",
   "metadata": {},
   "outputs": [
    {
     "name": "stdout",
     "output_type": "stream",
     "text": [
      "저장 완료: extracted_images\\image_3_1.png\n",
      "저장 완료: extracted_images\\image_4_1.png\n",
      "저장 완료: extracted_images\\image_4_2.png\n",
      "\n",
      "총 3개의 이미지를 추출했습니다.\n"
     ]
    }
   ],
   "source": [
    "pdf_file_path = r\"C:\\ITStudy\\100_SelfProject\\2nd_TechSeminar\\Data\\transformer.pdf\"\n",
    "extract_images_from_pdf(pdf_file_path)"
   ]
  },
  {
   "cell_type": "markdown",
   "id": "70f9c553",
   "metadata": {},
   "source": [
    "표 이미지는 추출 불가!"
   ]
  }
 ],
 "metadata": {
  "kernelspec": {
   "display_name": ".venv",
   "language": "python",
   "name": "python3"
  },
  "language_info": {
   "codemirror_mode": {
    "name": "ipython",
    "version": 3
   },
   "file_extension": ".py",
   "mimetype": "text/x-python",
   "name": "python",
   "nbconvert_exporter": "python",
   "pygments_lexer": "ipython3",
   "version": "3.12.10"
  }
 },
 "nbformat": 4,
 "nbformat_minor": 5
}
